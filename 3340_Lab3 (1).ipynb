{
  "metadata": {
    "kernelspec": {
      "name": "python",
      "display_name": "Python (Pyodide)",
      "language": "python"
    },
    "language_info": {
      "codemirror_mode": {
        "name": "python",
        "version": 3
      },
      "file_extension": ".py",
      "mimetype": "text/x-python",
      "name": "python",
      "nbconvert_exporter": "python",
      "pygments_lexer": "ipython3",
      "version": "3.8"
    }
  },
  "nbformat_minor": 4,
  "nbformat": 4,
  "cells": [
    {
      "cell_type": "markdown",
      "source": "1. Define a function called square() that takes a number as a parameter and returns its square.",
      "metadata": {}
    },
    {
      "cell_type": "code",
      "source": "# Your code here:\ndef square(num):\n    return num * num\n#testing the function\nsquare(8)",
      "metadata": {
        "trusted": true
      },
      "outputs": [
        {
          "execution_count": 7,
          "output_type": "execute_result",
          "data": {
            "text/plain": "64"
          },
          "metadata": {}
        }
      ],
      "execution_count": 7
    },
    {
      "cell_type": "markdown",
      "source": "2. Write a function greet_user() that takes a user’s name and prints a greeting.",
      "metadata": {}
    },
    {
      "cell_type": "code",
      "source": "# Your code here:\ndef greet_user(name):\n    print(\"Good afternoon, \" + name + \"!\")\n#testing the function\ngreet_user(\"Nyathiel\")\n",
      "metadata": {
        "trusted": true
      },
      "outputs": [
        {
          "name": "stdout",
          "output_type": "stream",
          "text": "Good afternoon, Nyathiel!\n"
        }
      ],
      "execution_count": 21
    },
    {
      "cell_type": "markdown",
      "source": "3. Create a function add_and_multiply(a, b) that returns both the sum and the product of two numbers.",
      "metadata": {}
    },
    {
      "cell_type": "code",
      "source": "# Your code here:\ndef add_and_multiply(a,b):\n    return a + b, a * b\n#testing the function\nadd_and_multiply(4,10)",
      "metadata": {
        "trusted": true
      },
      "outputs": [
        {
          "execution_count": 24,
          "output_type": "execute_result",
          "data": {
            "text/plain": "(14, 40)"
          },
          "metadata": {}
        }
      ],
      "execution_count": 24
    },
    {
      "cell_type": "markdown",
      "source": "4. What is the difference between a parameter and an argument? Write your answer in a markdown cell using your own words.",
      "metadata": {}
    },
    {
      "cell_type": "markdown",
      "source": "Your response here below: \nThe difference between a parameter and an argument is that a parameter is the variable or value's name specified in the function's header, while an argument is the actual value or expression that is passed onto a function when called.\n\n",
      "metadata": {}
    },
    {
      "cell_type": "markdown",
      "source": "5. Write a function called grade_category(score) that returns:\n\n- \"A\" if score ≥ 90\n\n- \"B\" if score ≥ 80\n\n- \"C\" if score ≥ 70\n\n- \"D\" if score ≥ 60\n    \n- \"F\" otherwise\n\nTest the function with 3 different scores.",
      "metadata": {}
    },
    {
      "cell_type": "code",
      "source": "# Your code here\ndef grade_category(score):\n    if score >= 90:\n        return \"A\"\n    elif score >= 80:\n        return \"B\"\n    elif score >= 70:\n        return \"C\"\n    elif score >= 60:\n        return \"D\"\n    else:\n        return \"F\"\n\n#testing the function\ngrade_category(98)\n",
      "metadata": {
        "trusted": true
      },
      "outputs": [
        {
          "execution_count": 28,
          "output_type": "execute_result",
          "data": {
            "text/plain": "'A'"
          },
          "metadata": {}
        }
      ],
      "execution_count": 28
    },
    {
      "cell_type": "markdown",
      "source": "6. Define a function calculator(a, b, operator) that returns the result of applying the operator to a and b.\n\n- Use +, -, *, / as valid operators.\n    \n- If the operator is invalid, return \"Invalid operation\".",
      "metadata": {}
    },
    {
      "cell_type": "code",
      "source": "# Your code here:\ndef func_calc(a, b, operator):\n    if operator == \"*\":\n        return a * b\n    elif operator == \"-\":\n        return a - b\n    elif operator == \"+\":\n        return a + b\n    elif operator == \"/\":\n        return a/b\n    else:\n        return \"Invalid operation.\"\n#testing the function\nfunc_calc(8,64,\"/\")",
      "metadata": {
        "trusted": true
      },
      "outputs": [
        {
          "execution_count": 33,
          "output_type": "execute_result",
          "data": {
            "text/plain": "0.125"
          },
          "metadata": {}
        }
      ],
      "execution_count": 33
    },
    {
      "cell_type": "markdown",
      "source": "7. Write a function called reverse_word(word) that takes a single word and returns the word reversed.",
      "metadata": {}
    },
    {
      "cell_type": "code",
      "source": "# Your code here:\ndef reverse_word(word):\n    return word[::-1]\n#testing the function\nreverse_word(\"cupcakes\")\n",
      "metadata": {
        "trusted": true
      },
      "outputs": [
        {
          "execution_count": 37,
          "output_type": "execute_result",
          "data": {
            "text/plain": "'sekacpuc'"
          },
          "metadata": {}
        }
      ],
      "execution_count": 37
    },
    {
      "cell_type": "markdown",
      "source": "8. Write a function called divide(a, b) that divides two numbers.\n\nIf b == 0, return \"Cannot divide by zero\"\n\n- Otherwise, return the result of a / b\n\nTest with at least one zero input and one normal input.\n",
      "metadata": {}
    },
    {
      "cell_type": "code",
      "source": "# Your code here:\ndef divide(a, b):\n    if b == 0:\n        return \"Cannot divide by zero\"\n    else:\n        return a / b\n#testing the normal input\ndivide(24, 12)",
      "metadata": {
        "trusted": true
      },
      "outputs": [
        {
          "execution_count": 64,
          "output_type": "execute_result",
          "data": {
            "text/plain": "2.0"
          },
          "metadata": {}
        }
      ],
      "execution_count": 66
    },
    {
      "cell_type": "code",
      "source": "divide(43,0) #testing the zero input",
      "metadata": {
        "trusted": true
      },
      "outputs": [
        {
          "execution_count": 66,
          "output_type": "execute_result",
          "data": {
            "text/plain": "'Cannot divide by zero'"
          },
          "metadata": {}
        }
      ],
      "execution_count": 68
    },
    {
      "cell_type": "markdown",
      "source": "9. Break the following logic into two functions:\n\nAsk the user for their age.\n\nIf they are 18 or older, print \"You can vote!\"\n\nOtherwise, print \"Sorry, you're too young.\"\n\nUse:\n\n- get_age() → gets input from the user\n    \n- check_voter_eligibility(age) → prints the message",
      "metadata": {
        "vscode": {
          "languageId": "plaintext"
        }
      }
    },
    {
      "cell_type": "code",
      "source": "# Your code here:\ndef get_age():\n    age = int(input(\"What is your age: \"))\n    return age\n\ndef check_voter_eligibility(age):\n    if age >= 18:\n        print(\"You can vote!\")\n    else:\n        print(\"Sorry, you're too young.\")\n#testing the function\nuser_age = get_age()\ncheck_voter_eligibility(user_age)",
      "metadata": {
        "trusted": true
      },
      "outputs": [
        {
          "output_type": "stream",
          "name": "stdin",
          "text": "What is your age:  21\n"
        },
        {
          "name": "stdout",
          "output_type": "stream",
          "text": "You can vote!\n"
        }
      ],
      "execution_count": 82
    },
    {
      "cell_type": "markdown",
      "source": "10. Write a function called describe_number(n) that returns:\n\n- \"Even\" if the number is even\n    \n- \"Odd\" if the number is odd\n\nThen test this function inside a loop for numbers 1 through 5.",
      "metadata": {}
    },
    {
      "cell_type": "code",
      "source": "# Your code here:\ndef describe_number(n):\n    if n % 2 == 0:\n        return \"Even\"\n    else:\n        return \"Odd\"\n#testing the function\ndescribe_number(15)",
      "metadata": {
        "trusted": true
      },
      "outputs": [
        {
          "execution_count": 83,
          "output_type": "execute_result",
          "data": {
            "text/plain": "'Odd'"
          },
          "metadata": {}
        }
      ],
      "execution_count": 86
    }
  ]
}